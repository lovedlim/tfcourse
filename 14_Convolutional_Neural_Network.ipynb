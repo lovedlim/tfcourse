{
  "nbformat": 4,
  "nbformat_minor": 0,
  "metadata": {
    "accelerator": "GPU",
    "colab": {
      "name": "14.Convolutional Neural Network.ipynb",
      "provenance": [],
      "collapsed_sections": []
    },
    "kernelspec": {
      "display_name": "Python 3",
      "name": "python3"
    },
    "language_info": {
      "name": "python"
    }
  },
  "cells": [
    {
      "cell_type": "markdown",
      "metadata": {
        "id": "4_E2o6jvsW_3"
      },
      "source": [
        "# CNN"
      ]
    },
    {
      "cell_type": "markdown",
      "metadata": {
        "id": "2qiLmLBVAajS"
      },
      "source": [
        "- 본 실습은 데이터 사전 준비가 필요합니다.\n",
        "- 아래 캐글 컴피티션에서 동의 후 Dataset을 다운받기 바랍니다.\n",
        "- https://www.kaggle.com/c/challenges-in-representation-learning-facial-expression-recognition-challenge"
      ]
    },
    {
      "cell_type": "code",
      "metadata": {
        "id": "IFF_CB4IF5So"
      },
      "source": [
        "# 라이브러리 불러오기\n",
        "import tensorflow as tf\n",
        "import numpy as np\n",
        "import pandas as pd\n",
        "import matplotlib.pyplot as plt\n",
        "\n",
        "from tensorflow.keras.layers import Dense, Flatten, Conv2D, MaxPooling2D\n",
        "from tensorflow.keras.models import Sequential\n",
        "from tensorflow.keras.optimizers import Adam\n",
        "from tensorflow.keras.callbacks import EarlyStopping\n",
        "\n",
        "%matplotlib inline"
      ],
      "execution_count": 1,
      "outputs": []
    },
    {
      "cell_type": "code",
      "metadata": {
        "id": "-JohBeZsQ8-D"
      },
      "source": [
        "import pandas as pd"
      ],
      "execution_count": 2,
      "outputs": []
    },
    {
      "cell_type": "code",
      "metadata": {
        "id": "pSEXPwRZIslr"
      },
      "source": [
        "#경로\n",
        "path = \"/content/drive/MyDrive/Colab Notebooks/youtube/퇴근후텐서플로/input/\" \n",
        "\n",
        "# 데이터 불러오기\n",
        "data = pd.read_csv(path+'icml_face_data.csv')\n",
        "# icml_face_data 파일에 훈련용, 검증용, 테스트용 데이터가 포함됨"
      ],
      "execution_count": 3,
      "outputs": []
    },
    {
      "cell_type": "code",
      "metadata": {
        "id": "bNyP-y9mKZhu"
      },
      "source": [
        "# 데이터 전처리 함수\n",
        "def preprocessing(data):\n",
        "    image = np.zeros(shape=(len(data), 48, 48)) # 빈 넘파이형태 (48*48)\n",
        "    label = np.array(list(map(int, data['emotion']))) \n",
        "    for i, row in enumerate(data.index):\n",
        "        df = np.fromstring(data[' pixels'][row], dtype=int, sep=' ') # 공백으로 구분된 데이터를 넘파이로 변경\n",
        "        df = np.reshape(df, (48, 48)) \n",
        "        image[i] = df\n",
        "    return image, label"
      ],
      "execution_count": 4,
      "outputs": []
    },
    {
      "cell_type": "code",
      "metadata": {
        "id": "AzCmfT5AK-MD"
      },
      "source": [
        "# Train, Validation, Test 데이터 구분\n",
        "x_train, y_train = preprocessing(data[data[' Usage']=='Training'])\n",
        "x_val, y_val = preprocessing(data[data[' Usage']=='PrivateTest'])\n",
        "x_test, y_test = preprocessing(data[data[' Usage']=='PublicTest'])"
      ],
      "execution_count": 5,
      "outputs": []
    },
    {
      "cell_type": "code",
      "metadata": {
        "colab": {
          "base_uri": "https://localhost:8080/"
        },
        "id": "Pj8dIVVeMUcF",
        "outputId": "cc70826e-ac18-4ddd-be79-f809f5911002"
      },
      "source": [
        "x_train.shape, x_val.shape, x_test.shape"
      ],
      "execution_count": 6,
      "outputs": [
        {
          "output_type": "execute_result",
          "data": {
            "text/plain": [
              "((28709, 48, 48), (3589, 48, 48), (3589, 48, 48))"
            ]
          },
          "metadata": {
            "tags": []
          },
          "execution_count": 6
        }
      ]
    },
    {
      "cell_type": "code",
      "metadata": {
        "colab": {
          "base_uri": "https://localhost:8080/"
        },
        "id": "0LHUaeQ17y1r",
        "outputId": "14589677-0549-4b6a-d623-79185003021c"
      },
      "source": [
        "# 데이터 전처리(shape 변경)\n",
        "print(x_train.shape, x_val.shape, x_test.shape)\n",
        "x_train = x_train.reshape((x_train.shape[0], 48, 48, 1))\n",
        "x_val = x_val.reshape((x_val.shape[0], 48, 48, 1))\n",
        "x_test = x_test.reshape((x_test.shape[0], 48, 48, 1))\n",
        "print(x_train.shape, x_val.shape, x_test.shape)"
      ],
      "execution_count": 7,
      "outputs": [
        {
          "output_type": "stream",
          "text": [
            "(28709, 48, 48) (3589, 48, 48) (3589, 48, 48)\n",
            "(28709, 48, 48, 1) (3589, 48, 48, 1) (3589, 48, 48, 1)\n"
          ],
          "name": "stdout"
        }
      ]
    },
    {
      "cell_type": "code",
      "metadata": {
        "id": "aUEU2dAA9KzB"
      },
      "source": [
        "x_train = x_train.astype('float32')/x_train.max()\n",
        "x_val = x_val.astype('float32')/x_val.max()\n",
        "x_test = x_test.astype('float32')/x_test.max()"
      ],
      "execution_count": 8,
      "outputs": []
    },
    {
      "cell_type": "markdown",
      "metadata": {
        "id": "qLGQ1k8VVmNY"
      },
      "source": [
        "## CNN 첫번째 모델"
      ]
    },
    {
      "cell_type": "code",
      "metadata": {
        "colab": {
          "base_uri": "https://localhost:8080/"
        },
        "id": "8buzm4BF8JHB",
        "outputId": "d8769836-d50b-48e7-d48e-36a197c52e3f"
      },
      "source": [
        "# 모델3 CNN 적용\n",
        "model = Sequential([\n",
        "                    Conv2D(64, (3, 3), activation='relu', input_shape=(48, 48, 1)),\n",
        "                    MaxPooling2D((2, 2)),\n",
        "                    Flatten(),\n",
        "                    Dense(128, activation='relu'),\n",
        "                    Dense(7, activation='softmax')\n",
        "])\n",
        "# 모델 컴파일\n",
        "model.compile(optimizer='adam',\n",
        "              loss='sparse_categorical_crossentropy',\n",
        "              metrics=['accuracy'])\n",
        "\n",
        "early_stopping = EarlyStopping(monitor='val_accuracy', patience=3) \n",
        "\n",
        "# 훈련(학습)\n",
        "history = model.fit(x_train, y_train,  validation_data=(x_val, y_val), epochs=30, batch_size=64, callbacks=[early_stopping]) \n",
        "\n"
      ],
      "execution_count": 9,
      "outputs": [
        {
          "output_type": "stream",
          "text": [
            "Epoch 1/30\n",
            "449/449 [==============================] - 35s 8ms/step - loss: 1.6762 - accuracy: 0.3462 - val_loss: 1.5288 - val_accuracy: 0.4154\n",
            "Epoch 2/30\n",
            "449/449 [==============================] - 4s 8ms/step - loss: 1.4710 - accuracy: 0.4420 - val_loss: 1.4435 - val_accuracy: 0.4450\n",
            "Epoch 3/30\n",
            "449/449 [==============================] - 4s 8ms/step - loss: 1.3691 - accuracy: 0.4812 - val_loss: 1.4058 - val_accuracy: 0.4639\n",
            "Epoch 4/30\n",
            "449/449 [==============================] - 4s 8ms/step - loss: 1.2878 - accuracy: 0.5156 - val_loss: 1.3932 - val_accuracy: 0.4759\n",
            "Epoch 5/30\n",
            "449/449 [==============================] - 4s 8ms/step - loss: 1.2126 - accuracy: 0.5464 - val_loss: 1.3824 - val_accuracy: 0.4712\n",
            "Epoch 6/30\n",
            "449/449 [==============================] - 4s 8ms/step - loss: 1.1446 - accuracy: 0.5781 - val_loss: 1.3500 - val_accuracy: 0.4923\n",
            "Epoch 7/30\n",
            "449/449 [==============================] - 4s 8ms/step - loss: 1.0784 - accuracy: 0.6022 - val_loss: 1.3622 - val_accuracy: 0.4954\n",
            "Epoch 8/30\n",
            "449/449 [==============================] - 4s 8ms/step - loss: 1.0080 - accuracy: 0.6324 - val_loss: 1.3948 - val_accuracy: 0.4748\n",
            "Epoch 9/30\n",
            "449/449 [==============================] - 3s 8ms/step - loss: 0.9392 - accuracy: 0.6605 - val_loss: 1.3999 - val_accuracy: 0.5026\n",
            "Epoch 10/30\n",
            "449/449 [==============================] - 4s 8ms/step - loss: 0.8686 - accuracy: 0.6882 - val_loss: 1.4539 - val_accuracy: 0.4823\n",
            "Epoch 11/30\n",
            "449/449 [==============================] - 4s 8ms/step - loss: 0.7986 - accuracy: 0.7142 - val_loss: 1.4958 - val_accuracy: 0.4896\n",
            "Epoch 12/30\n",
            "449/449 [==============================] - 4s 8ms/step - loss: 0.7226 - accuracy: 0.7448 - val_loss: 1.5301 - val_accuracy: 0.5038\n",
            "Epoch 13/30\n",
            "449/449 [==============================] - 4s 8ms/step - loss: 0.6483 - accuracy: 0.7736 - val_loss: 1.6262 - val_accuracy: 0.4896\n",
            "Epoch 14/30\n",
            "449/449 [==============================] - 4s 8ms/step - loss: 0.5774 - accuracy: 0.8020 - val_loss: 1.6601 - val_accuracy: 0.5040\n",
            "Epoch 15/30\n",
            "449/449 [==============================] - 4s 8ms/step - loss: 0.5079 - accuracy: 0.8298 - val_loss: 1.7403 - val_accuracy: 0.4971\n",
            "Epoch 16/30\n",
            "449/449 [==============================] - 4s 8ms/step - loss: 0.4408 - accuracy: 0.8556 - val_loss: 1.8429 - val_accuracy: 0.4965\n",
            "Epoch 17/30\n",
            "449/449 [==============================] - 4s 8ms/step - loss: 0.3815 - accuracy: 0.8773 - val_loss: 2.0055 - val_accuracy: 0.4882\n"
          ],
          "name": "stdout"
        }
      ]
    },
    {
      "cell_type": "code",
      "metadata": {
        "colab": {
          "base_uri": "https://localhost:8080/"
        },
        "id": "WcnCtY8ATrU2",
        "outputId": "1babc9f7-7426-4e58-d799-2a14232112a9"
      },
      "source": [
        "model.summary()"
      ],
      "execution_count": 10,
      "outputs": [
        {
          "output_type": "stream",
          "text": [
            "Model: \"sequential\"\n",
            "_________________________________________________________________\n",
            "Layer (type)                 Output Shape              Param #   \n",
            "=================================================================\n",
            "conv2d (Conv2D)              (None, 46, 46, 64)        640       \n",
            "_________________________________________________________________\n",
            "max_pooling2d (MaxPooling2D) (None, 23, 23, 64)        0         \n",
            "_________________________________________________________________\n",
            "flatten (Flatten)            (None, 33856)             0         \n",
            "_________________________________________________________________\n",
            "dense (Dense)                (None, 128)               4333696   \n",
            "_________________________________________________________________\n",
            "dense_1 (Dense)              (None, 7)                 903       \n",
            "=================================================================\n",
            "Total params: 4,335,239\n",
            "Trainable params: 4,335,239\n",
            "Non-trainable params: 0\n",
            "_________________________________________________________________\n"
          ],
          "name": "stdout"
        }
      ]
    },
    {
      "cell_type": "markdown",
      "metadata": {
        "id": "5H8r3fPhVjOT"
      },
      "source": [
        "## CNN 두번째 모델"
      ]
    },
    {
      "cell_type": "code",
      "metadata": {
        "colab": {
          "base_uri": "https://localhost:8080/"
        },
        "id": "0V18oJh3UMs_",
        "outputId": "3f5396fe-9186-4a5f-ce97-9175f646a1dd"
      },
      "source": [
        "# CNN\n",
        "img_height = 48\n",
        "img_width = 48\n",
        "ch = 1\n",
        "\n",
        "model = Sequential([\n",
        "                    Conv2D(32, (3, 3), activation='relu', input_shape=(img_height, img_width, ch)),\n",
        "                    MaxPooling2D((2, 2)),\n",
        "                    Conv2D(64, (3, 3), activation='relu'),\n",
        "                    MaxPooling2D((2, 2)),\n",
        "                    Conv2D(64, (3, 3), activation='relu'),\n",
        "                    MaxPooling2D((2, 2)),\n",
        "                    Flatten(),\n",
        "                    Dense(128, activation='relu'),\n",
        "                    Dense(7, activation='softmax')\n",
        "])\n",
        "# 모델 컴파일\n",
        "model.compile(optimizer='adam',\n",
        "              loss='sparse_categorical_crossentropy',\n",
        "              metrics=['accuracy'])\n",
        "\n",
        "early_stopping = EarlyStopping(monitor='val_accuracy', patience=3) \n",
        "\n",
        "# 훈련(학습)\n",
        "history = model.fit(x_train, y_train,  validation_data=(x_val, y_val), epochs=30, batch_size=64, callbacks=[early_stopping]) "
      ],
      "execution_count": 11,
      "outputs": [
        {
          "output_type": "stream",
          "text": [
            "Epoch 1/30\n",
            "449/449 [==============================] - 4s 7ms/step - loss: 1.6585 - accuracy: 0.3428 - val_loss: 1.5011 - val_accuracy: 0.4205\n",
            "Epoch 2/30\n",
            "449/449 [==============================] - 3s 7ms/step - loss: 1.4319 - accuracy: 0.4544 - val_loss: 1.4133 - val_accuracy: 0.4572\n",
            "Epoch 3/30\n",
            "449/449 [==============================] - 3s 7ms/step - loss: 1.3189 - accuracy: 0.4986 - val_loss: 1.2900 - val_accuracy: 0.5049\n",
            "Epoch 4/30\n",
            "449/449 [==============================] - 3s 7ms/step - loss: 1.2424 - accuracy: 0.5299 - val_loss: 1.2721 - val_accuracy: 0.5130\n",
            "Epoch 5/30\n",
            "449/449 [==============================] - 3s 7ms/step - loss: 1.1862 - accuracy: 0.5497 - val_loss: 1.2372 - val_accuracy: 0.5297\n",
            "Epoch 6/30\n",
            "449/449 [==============================] - 3s 7ms/step - loss: 1.1316 - accuracy: 0.5747 - val_loss: 1.2005 - val_accuracy: 0.5391\n",
            "Epoch 7/30\n",
            "449/449 [==============================] - 3s 7ms/step - loss: 1.0798 - accuracy: 0.5947 - val_loss: 1.1849 - val_accuracy: 0.5522\n",
            "Epoch 8/30\n",
            "449/449 [==============================] - 3s 7ms/step - loss: 1.0365 - accuracy: 0.6134 - val_loss: 1.1718 - val_accuracy: 0.5517\n",
            "Epoch 9/30\n",
            "449/449 [==============================] - 3s 7ms/step - loss: 0.9960 - accuracy: 0.6265 - val_loss: 1.1822 - val_accuracy: 0.5695\n",
            "Epoch 10/30\n",
            "449/449 [==============================] - 3s 7ms/step - loss: 0.9579 - accuracy: 0.6420 - val_loss: 1.1510 - val_accuracy: 0.5676\n",
            "Epoch 11/30\n",
            "449/449 [==============================] - 3s 7ms/step - loss: 0.9181 - accuracy: 0.6582 - val_loss: 1.1945 - val_accuracy: 0.5639\n",
            "Epoch 12/30\n",
            "449/449 [==============================] - 3s 7ms/step - loss: 0.8789 - accuracy: 0.6740 - val_loss: 1.1897 - val_accuracy: 0.5578\n"
          ],
          "name": "stdout"
        }
      ]
    },
    {
      "cell_type": "code",
      "metadata": {
        "colab": {
          "base_uri": "https://localhost:8080/"
        },
        "id": "6krSyQc0Uhso",
        "outputId": "958d08a3-8292-4408-b39d-e3b96cbfe671"
      },
      "source": [
        "model.summary()"
      ],
      "execution_count": 12,
      "outputs": [
        {
          "output_type": "stream",
          "text": [
            "Model: \"sequential_1\"\n",
            "_________________________________________________________________\n",
            "Layer (type)                 Output Shape              Param #   \n",
            "=================================================================\n",
            "conv2d_1 (Conv2D)            (None, 46, 46, 32)        320       \n",
            "_________________________________________________________________\n",
            "max_pooling2d_1 (MaxPooling2 (None, 23, 23, 32)        0         \n",
            "_________________________________________________________________\n",
            "conv2d_2 (Conv2D)            (None, 21, 21, 64)        18496     \n",
            "_________________________________________________________________\n",
            "max_pooling2d_2 (MaxPooling2 (None, 10, 10, 64)        0         \n",
            "_________________________________________________________________\n",
            "conv2d_3 (Conv2D)            (None, 8, 8, 64)          36928     \n",
            "_________________________________________________________________\n",
            "max_pooling2d_3 (MaxPooling2 (None, 4, 4, 64)          0         \n",
            "_________________________________________________________________\n",
            "flatten_1 (Flatten)          (None, 1024)              0         \n",
            "_________________________________________________________________\n",
            "dense_2 (Dense)              (None, 128)               131200    \n",
            "_________________________________________________________________\n",
            "dense_3 (Dense)              (None, 7)                 903       \n",
            "=================================================================\n",
            "Total params: 187,847\n",
            "Trainable params: 187,847\n",
            "Non-trainable params: 0\n",
            "_________________________________________________________________\n"
          ],
          "name": "stdout"
        }
      ]
    },
    {
      "cell_type": "code",
      "metadata": {
        "colab": {
          "base_uri": "https://localhost:8080/",
          "height": 297
        },
        "id": "Eu8mPnwT9zd_",
        "outputId": "446c1412-88cd-4dd2-9487-c81ba1987c99"
      },
      "source": [
        "plt.plot(history.history['accuracy'])\n",
        "plt.plot(history.history['val_accuracy'])\n",
        "plt.xlabel('epoch')\n",
        "plt.ylabel('accuracy')\n",
        "plt.legend(['training', 'validation'])"
      ],
      "execution_count": 13,
      "outputs": [
        {
          "output_type": "execute_result",
          "data": {
            "text/plain": [
              "<matplotlib.legend.Legend at 0x7fbb0a2022d0>"
            ]
          },
          "metadata": {
            "tags": []
          },
          "execution_count": 13
        },
        {
          "output_type": "display_data",
          "data": {
            "image/png": "[encoded data removed]",
            "text/plain": [
              "<Figure size 432x288 with 1 Axes>"
            ]
          },
          "metadata": {
            "tags": [],
            "needs_background": "light"
          }
        }
      ]
    },
    {
      "cell_type": "code",
      "metadata": {
        "colab": {
          "base_uri": "https://localhost:8080/",
          "height": 297
        },
        "id": "hrX4ix7J__2E",
        "outputId": "9992d367-feb0-4632-a20a-c35e07499c58"
      },
      "source": [
        "plt.plot(history.history['loss'])\n",
        "plt.plot(history.history['val_loss'])\n",
        "plt.xlabel('epoch')\n",
        "plt.ylabel('loss')\n",
        "plt.legend(['training', 'validation'])"
      ],
      "execution_count": 14,
      "outputs": [
        {
          "output_type": "execute_result",
          "data": {
            "text/plain": [
              "<matplotlib.legend.Legend at 0x7fbb0a2c5d10>"
            ]
          },
          "metadata": {
            "tags": []
          },
          "execution_count": 14
        },
        {
          "output_type": "display_data",
          "data": {
            "image/png": "[encoded data removed]",
            "text/plain": [
              "<Figure size 432x288 with 1 Axes>"
            ]
          },
          "metadata": {
            "tags": [],
            "needs_background": "light"
          }
        }
      ]
    },
    {
      "cell_type": "code",
      "metadata": {
        "colab": {
          "base_uri": "https://localhost:8080/"
        },
        "id": "5moPcbIiACAL",
        "outputId": "b318ae63-78fe-4759-b066-48b77a5294d2"
      },
      "source": [
        "loss, acc = model.evaluate(x_test, y_test)\n",
        "print('test정확도:', acc)"
      ],
      "execution_count": 15,
      "outputs": [
        {
          "output_type": "stream",
          "text": [
            "113/113 [==============================] - 0s 3ms/step - loss: 1.2295 - accuracy: 0.5464\n",
            "test정확도: 0.5463917255401611\n"
          ],
          "name": "stdout"
        }
      ]
    },
    {
      "cell_type": "code",
      "metadata": {
        "id": "oowvc0apAEoq"
      },
      "source": [
        ""
      ],
      "execution_count": 15,
      "outputs": []
    }
  ]
}