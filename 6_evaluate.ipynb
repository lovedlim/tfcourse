{
  "nbformat": 4,
  "nbformat_minor": 0,
  "metadata": {
    "colab": {
      "name": "6.evaluate.ipynb",
      "provenance": [],
      "collapsed_sections": []
    },
    "kernelspec": {
      "name": "python3",
      "display_name": "Python 3"
    },
    "language_info": {
      "name": "python"
    }
  },
  "cells": [
    {
      "cell_type": "markdown",
      "metadata": {
        "id": "jqdB9hiomr-e"
      },
      "source": [
        "## 모델 평가"
      ]
    },
    {
      "cell_type": "code",
      "metadata": {
        "colab": {
          "base_uri": "https://localhost:8080/"
        },
        "id": "OHmPMz5ArB8G",
        "outputId": "389b648d-ae76-47d7-9884-3d9fd4fde9f9"
      },
      "source": [
        "# 라이브러리 불러오기\n",
        "import tensorflow as tf\n",
        "from tensorflow.keras.models import Sequential\n",
        "from tensorflow.keras.layers import Dense, Flatten\n",
        "\n",
        "# Mnist 데이터셋\n",
        "mnist = tf.keras.datasets.mnist\n",
        "(x_train, y_train), (x_test, y_test) = mnist.load_data()\n",
        "\n",
        "# 시퀀셜 모델 만들기\n",
        "model = Sequential([\n",
        "                    Flatten(input_shape=(28,28)),\n",
        "                    Dense(64, activation='relu'),\n",
        "                    Dense(10, activation='softmax')\n",
        "])\n",
        "\n",
        "# 모델 컴파일\n",
        "model.compile(optimizer='adam',\n",
        "              loss='sparse_categorical_crossentropy',\n",
        "              metrics=['accuracy'])\n",
        "\n",
        "# 훈련(학습)\n",
        "history = model.fit(x_train, y_train,validation_split=0.2, epochs=5, batch_size=64)"
      ],
      "execution_count": null,
      "outputs": [
        {
          "output_type": "stream",
          "text": [
            "Downloading data from https://storage.googleapis.com/tensorflow/tf-keras-datasets/mnist.npz\n",
            "11493376/11490434 [==============================] - 0s 0us/step\n",
            "Epoch 1/5\n",
            "750/750 [==============================] - 2s 2ms/step - loss: 3.6826 - accuracy: 0.7566 - val_loss: 0.7184 - val_accuracy: 0.8190\n",
            "Epoch 2/5\n",
            "750/750 [==============================] - 2s 2ms/step - loss: 0.6035 - accuracy: 0.8513 - val_loss: 0.5193 - val_accuracy: 0.8678\n",
            "Epoch 3/5\n",
            "750/750 [==============================] - 2s 2ms/step - loss: 0.4233 - accuracy: 0.8835 - val_loss: 0.3974 - val_accuracy: 0.8982\n",
            "Epoch 4/5\n",
            "750/750 [==============================] - 2s 2ms/step - loss: 0.3373 - accuracy: 0.9067 - val_loss: 0.3713 - val_accuracy: 0.9056\n",
            "Epoch 5/5\n",
            "750/750 [==============================] - 2s 2ms/step - loss: 0.2884 - accuracy: 0.9205 - val_loss: 0.2854 - val_accuracy: 0.9239\n"
          ],
          "name": "stdout"
        }
      ]
    },
    {
      "cell_type": "code",
      "metadata": {
        "colab": {
          "base_uri": "https://localhost:8080/"
        },
        "id": "39eYt2KarNxl",
        "outputId": "6fd6710e-ae47-4023-a0d3-50083ad204e2"
      },
      "source": [
        "#평가(정확도)\n",
        "loss, accuracy = model.evaluate(x_test, y_test)\n",
        "print(\"Test 데이터 정확도: \", accuracy)"
      ],
      "execution_count": null,
      "outputs": [
        {
          "output_type": "stream",
          "text": [
            "313/313 [==============================] - 0s 1ms/step - loss: 0.2780 - accuracy: 0.9301\n",
            "Test 데이터 정확도:  0.9301000237464905\n"
          ],
          "name": "stdout"
        }
      ]
    },
    {
      "cell_type": "markdown",
      "metadata": {
        "id": "dwVVIz6Dmp8Q"
      },
      "source": [
        "## 예측 결과"
      ]
    },
    {
      "cell_type": "code",
      "metadata": {
        "id": "KXMudQ2krWiT"
      },
      "source": [
        "# 예측\n",
        "predictions = model.predict(x_test)"
      ],
      "execution_count": null,
      "outputs": []
    },
    {
      "cell_type": "code",
      "metadata": {
        "colab": {
          "base_uri": "https://localhost:8080/"
        },
        "id": "5KBM4s26TrGw",
        "outputId": "b1fda900-7ef7-4442-9dd2-0ee20acc7e5a"
      },
      "source": [
        "# 첫 번째 데이터 예측 결과값\n",
        "predictions[0]"
      ],
      "execution_count": null,
      "outputs": [
        {
          "output_type": "execute_result",
          "data": {
            "text/plain": [
              "array([1.6448417e-20, 1.0482197e-14, 1.0983204e-09, 3.5010114e-06,\n",
              "       3.2275153e-20, 8.1652008e-21, 0.0000000e+00, 9.9999654e-01,\n",
              "       1.9471825e-20, 5.5073173e-08], dtype=float32)"
            ]
          },
          "metadata": {
            "tags": []
          },
          "execution_count": 4
        }
      ]
    },
    {
      "cell_type": "code",
      "metadata": {
        "id": "_S4ChDDmd9p9"
      },
      "source": [
        "# 표현방식 변경(소수점 두자리)\n",
        "import numpy as np\n",
        "np.set_printoptions(formatter={'float_kind': lambda x: \"{0:0.2f}\".format(x)})"
      ],
      "execution_count": null,
      "outputs": []
    },
    {
      "cell_type": "code",
      "metadata": {
        "colab": {
          "base_uri": "https://localhost:8080/"
        },
        "id": "z7cqT7vCeAMp",
        "outputId": "c98daeae-21b2-4a83-a44d-2b80e7c4b21d"
      },
      "source": [
        "# 첫 번째 데이터 예측 결과값\n",
        "predictions[0]"
      ],
      "execution_count": null,
      "outputs": [
        {
          "output_type": "execute_result",
          "data": {
            "text/plain": [
              "array([0.00, 0.00, 0.00, 0.00, 0.00, 0.00, 0.00, 1.00, 0.00, 0.00],\n",
              "      dtype=float32)"
            ]
          },
          "metadata": {
            "tags": []
          },
          "execution_count": 6
        }
      ]
    },
    {
      "cell_type": "code",
      "metadata": {
        "colab": {
          "base_uri": "https://localhost:8080/",
          "height": 175
        },
        "id": "5vt8V-EoTtKu",
        "outputId": "6f045f60-3986-430f-8d6e-cbe211b96ec7"
      },
      "source": [
        "# 첫 번째 데이터 예측 결과값 그래프로 표시\n",
        "import matplotlib.pyplot as plt\n",
        "plt.figure(figsize=(12, 2))\n",
        "plt.plot(predictions[0], 'o')"
      ],
      "execution_count": null,
      "outputs": [
        {
          "output_type": "execute_result",
          "data": {
            "text/plain": [
              "[<matplotlib.lines.Line2D at 0x7fe8466f4750>]"
            ]
          },
          "metadata": {
            "tags": []
          },
          "execution_count": 7
        },
        {
          "output_type": "display_data",
          "data": {
            "image/png": "[encoded data removed]",
            "text/plain": [
              "<Figure size 864x144 with 1 Axes>"
            ]
          },
          "metadata": {
            "tags": [],
            "needs_background": "light"
          }
        }
      ]
    },
    {
      "cell_type": "code",
      "metadata": {
        "colab": {
          "base_uri": "https://localhost:8080/",
          "height": 283
        },
        "id": "PXS3GXs6UadW",
        "outputId": "a5dbf140-53b4-4856-8d0f-556f1b543774"
      },
      "source": [
        "# 첫 번째 데이터 손글씨\n",
        "plt.imshow(x_test[0])"
      ],
      "execution_count": null,
      "outputs": [
        {
          "output_type": "execute_result",
          "data": {
            "text/plain": [
              "<matplotlib.image.AxesImage at 0x7fe8427c0910>"
            ]
          },
          "metadata": {
            "tags": []
          },
          "execution_count": 8
        },
        {
          "output_type": "display_data",
          "data": {
            "image/png": "[encoded data removed]",
            "text/plain": [
              "<Figure size 432x288 with 1 Axes>"
            ]
          },
          "metadata": {
            "tags": [],
            "needs_background": "light"
          }
        }
      ]
    },
    {
      "cell_type": "code",
      "metadata": {
        "id": "4jgsIslKfCsL"
      },
      "source": [
        ""
      ],
      "execution_count": null,
      "outputs": []
    }
  ]
}